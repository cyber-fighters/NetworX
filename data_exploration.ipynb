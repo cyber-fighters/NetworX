{
 "cells": [
  {
   "cell_type": "markdown",
   "metadata": {},
   "source": [
    "# Network data exploration"
   ]
  },
  {
   "cell_type": "markdown",
   "metadata": {},
   "source": [
    "## Load data\n",
    "\n",
    "Gather paths from private json file"
   ]
  },
  {
   "cell_type": "code",
   "execution_count": null,
   "metadata": {},
   "outputs": [],
   "source": [
    "import json\n",
    "\n",
    "with open('paths.json') as f:\n",
    "    json_data = json.load(f)\n",
    "json_data"
   ]
  },
  {
   "cell_type": "code",
   "execution_count": null,
   "metadata": {},
   "outputs": [],
   "source": [
    "networkfile = json_data['data']['file']"
   ]
  },
  {
   "cell_type": "markdown",
   "metadata": {},
   "source": [
    "Read network data from file"
   ]
  },
  {
   "cell_type": "code",
   "execution_count": null,
   "metadata": {},
   "outputs": [],
   "source": [
    "import scapy.all\n",
    "\n",
    "a = scapy.all.rdpcap(networkfile)\n",
    "sessions = a.sessions()\n",
    "\n",
    "print('Loaded {} sessions'.format(len(sessions)))"
   ]
  },
  {
   "cell_type": "code",
   "execution_count": null,
   "metadata": {},
   "outputs": [],
   "source": [
    "sessionKeys = list(sessions.keys())\n",
    "print(sessionKeys[0:2])\n",
    "sessionVals = list(sessions.values())\n",
    "print(sessionVals[0:2])"
   ]
  },
  {
   "cell_type": "markdown",
   "metadata": {},
   "source": [
    "## Investigate pcap data\n",
    "\n",
    "### Investigate single packet list"
   ]
  },
  {
   "cell_type": "code",
   "execution_count": null,
   "metadata": {},
   "outputs": [],
   "source": [
    "sessionVals[0].show()"
   ]
  },
  {
   "cell_type": "code",
   "execution_count": null,
   "metadata": {},
   "outputs": [],
   "source": [
    "sessionVals[0].make_table(lambda x:(x[scapy.all.IP].dst, x[scapy.all.TCP].dport, x[scapy.all.TCP].sprintf(\"%flags%\")))"
   ]
  },
  {
   "cell_type": "code",
   "execution_count": null,
   "metadata": {},
   "outputs": [],
   "source": [
    "sessionVals[0][scapy.all.TCP][1].dport"
   ]
  },
  {
   "cell_type": "markdown",
   "metadata": {},
   "source": [
    "## Fill data in dataframe"
   ]
  },
  {
   "cell_type": "code",
   "execution_count": null,
   "metadata": {},
   "outputs": [],
   "source": [
    "def extract_destination_IPs(packet):\n",
    "    destination_IPs = list(map(lambda x: x[scapy.all.IP].dst, packet))\n",
    "    print(' - recording ' + str(len(destination_IPs)) + \" destination IPs for this packet\")\n",
    "    return destination_IPs\n",
    "\n",
    "def extract_destination_ports(packet):\n",
    "    destination_ports = list(map(lambda x: x[scapy.all.IP].dport, packet))\n",
    "    print(' - recording ' + str(len(destination_ports)) + \" ports for this packet\")\n",
    "    return destination_ports\n",
    "\n",
    "def extract_data(packets):\n",
    "    print('This packet list has ' + str(len(packets)) + ' packets')\n",
    "    destination_IPs = list(map(extract_destination_IPs, packets))\n",
    "    destination_ports = list(map(extract_destination_ports, packets))\n",
    "\n",
    "    data = {}\n",
    "    data['destination_IPs'] = destination_IPs\n",
    "    data['destination_ports'] = destination_ports\n",
    "\n",
    "    return data"
   ]
  },
  {
   "cell_type": "code",
   "execution_count": null,
   "metadata": {},
   "outputs": [],
   "source": [
    "data = extract_data(sessionVals[0:4])"
   ]
  },
  {
   "cell_type": "code",
   "execution_count": null,
   "metadata": {},
   "outputs": [],
   "source": [
    "import pandas as pd\n",
    "\n",
    "df = pd.DataFrame(data)\n",
    "df"
   ]
  },
  {
   "cell_type": "code",
   "execution_count": null,
   "metadata": {},
   "outputs": [],
   "source": [
    "import matplotlib.pyplot as plt\n",
    "%matplotlib inline\n",
    "import seaborn as sns\n"
   ]
  },
  {
   "cell_type": "code",
   "execution_count": null,
   "metadata": {},
   "outputs": [],
   "source": []
  }
 ],
 "metadata": {
  "kernelspec": {
   "display_name": "Python 3",
   "language": "python",
   "name": "python3"
  },
  "language_info": {
   "codemirror_mode": {
    "name": "ipython",
    "version": 3
   },
   "file_extension": ".py",
   "mimetype": "text/x-python",
   "name": "python",
   "nbconvert_exporter": "python",
   "pygments_lexer": "ipython3",
   "version": "3.7.0"
  }
 },
 "nbformat": 4,
 "nbformat_minor": 2
}
