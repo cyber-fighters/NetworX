{
 "cells": [
  {
   "cell_type": "markdown",
   "metadata": {},
   "source": [
    "# Network data exploration"
   ]
  },
  {
   "cell_type": "markdown",
   "metadata": {},
   "source": [
    "## Load data\n",
    "\n",
    "Gather paths from private json file"
   ]
  },
  {
   "cell_type": "code",
   "execution_count": null,
   "metadata": {},
   "outputs": [],
   "source": [
    "import json\n",
    "\n",
    "with open('paths.json') as f:\n",
    "    json_data = json.load(f)\n",
    "json_data"
   ]
  },
  {
   "cell_type": "code",
   "execution_count": null,
   "metadata": {},
   "outputs": [],
   "source": [
    "networkfile = json_data['data']['file']"
   ]
  },
  {
   "cell_type": "markdown",
   "metadata": {},
   "source": [
    "Read network data from file"
   ]
  },
  {
   "cell_type": "code",
   "execution_count": null,
   "metadata": {},
   "outputs": [],
   "source": [
    "import scapy.all\n",
    "\n",
    "a = scapy.all.rdpcap(networkfile)\n",
    "sessions = a.sessions()\n",
    "\n",
    "print('Loaded {} sessions'.format(len(sessions)))"
   ]
  },
  {
   "cell_type": "code",
   "execution_count": null,
   "metadata": {},
   "outputs": [],
   "source": [
    "sessionKeys = list(sessions.keys())\n",
    "print(sessionKeys[0:2])\n",
    "sessionVals = list(sessions.values())\n",
    "print(sessionVals[0:2])"
   ]
  },
  {
   "cell_type": "markdown",
   "metadata": {},
   "source": [
    "## Investigate pcap data\n",
    "\n",
    "### Investigate single packet list"
   ]
  },
  {
   "cell_type": "code",
   "execution_count": null,
   "metadata": {},
   "outputs": [],
   "source": [
    "sessionVals[0].show()"
   ]
  },
  {
   "cell_type": "code",
   "execution_count": null,
   "metadata": {},
   "outputs": [],
   "source": [
    "sessionVals[0].make_table(lambda x:(x[scapy.all.IP].dport, x[scapy.all.TCP].dport, x[scapy.all.TCP].payload_guess))"
   ]
  },
  {
   "cell_type": "code",
   "execution_count": null,
   "metadata": {},
   "outputs": [],
   "source": [
    "sessionVals[0][scapy.all.TCP][1]"
   ]
  },
  {
   "cell_type": "markdown",
   "metadata": {},
   "source": [
    "### Fill data in dataframe"
   ]
  },
  {
   "cell_type": "markdown",
   "metadata": {},
   "source": [
    "Define extractors for a single packet"
   ]
  },
  {
   "cell_type": "code",
   "execution_count": null,
   "metadata": {},
   "outputs": [],
   "source": [
    "import numpy as np\n",
    "\n",
    "errors = {}\n",
    "\n",
    "def catch_exception(func):\n",
    "    def func_wrapper(*args, **kargs):\n",
    "        try:\n",
    "            return func(*args, **kargs)    \n",
    "        except (IndexError, AttributeError) as e:\n",
    "            err = e.__class__.__name__ + ': ' + str(*e.args)\n",
    "            if err not in errors.keys():\n",
    "                errors[err] = 1\n",
    "            else:\n",
    "                errors[err] += 1\n",
    "            return [np.NaN] * len(args[0])\n",
    "    return func_wrapper"
   ]
  },
  {
   "cell_type": "code",
   "execution_count": null,
   "metadata": {},
   "outputs": [],
   "source": [
    "# define IP functions\n",
    "\n",
    "@catch_exception\n",
    "def extract_IP_flags(packet):\n",
    "    return list(map(lambda x: x[scapy.all.IP].sprintf(\"%flags%\"), packet))\n",
    "\n",
    "@catch_exception\n",
    "def extract_IP_time(packet):\n",
    "    return list(map(lambda x: x[scapy.all.IP].time, packet))\n",
    "\n",
    "@catch_exception\n",
    "def extract_destination_IPs(packet):\n",
    "    return list(map(lambda x: x[scapy.all.IP].dst, packet))\n",
    "\n",
    "@catch_exception\n",
    "def extract_destination_IP_ports(packet):\n",
    "    return list(map(lambda x: x[scapy.all.IP].dport, packet))\n",
    "\n",
    "@catch_exception\n",
    "def extract_source_IP_ports(packet):\n",
    "    return list(map(lambda x: x[scapy.all.IP].sport, packet))\n",
    "\n",
    "\n",
    "# define UDP functions\n",
    "\n",
    "@catch_exception\n",
    "def extract_destination_UDP_ports(packet):\n",
    "    return list(map(lambda x: x[scapy.all.UDP].dport, packet))\n",
    "\n",
    "\n",
    "# define TCP functions\n",
    "\n",
    "@catch_exception\n",
    "def extract_TCP_flags(packet):\n",
    "    return list(map(lambda x: x[scapy.all.TCP].sprintf(\"%flags%\"), packet))\n",
    "\n",
    "@catch_exception\n",
    "def extract_destination_TCP_ports(packet):\n",
    "    return list(map(lambda x: x[scapy.all.TCP].dport, packet))"
   ]
  },
  {
   "cell_type": "markdown",
   "metadata": {},
   "source": [
    "Perform extraction for all packets"
   ]
  },
  {
   "cell_type": "code",
   "execution_count": null,
   "metadata": {},
   "outputs": [],
   "source": [
    "import itertools\n",
    "\n",
    "def flatten_map(l):\n",
    "    return list(itertools.chain(*list(l)))\n",
    "\n",
    "def extract_data(packets):\n",
    "    print('This packet list has ' + str(len(packets)) + ' packets')\n",
    "    destination_IPs = flatten_map(map(extract_destination_IPs, packets))\n",
    "    destination_IP_ports = flatten_map(map(extract_destination_IP_ports, packets))\n",
    "    destination_TCP_ports = flatten_map(map(extract_destination_TCP_ports, packets))\n",
    "    TCP_flags = flatten_map(map(extract_TCP_flags, packets))\n",
    "    IP_flags = flatten_map(map(extract_IP_flags, packets))\n",
    "    destination_UDP_ports = flatten_map(map(extract_destination_UDP_ports, packets))\n",
    "    IP_time = flatten_map(map(extract_IP_time, packets))\n",
    "    source_IP_ports = flatten_map(map(extract_source_IP_ports, packets))\n",
    "    \n",
    "    data = {}\n",
    "    data['IP_time'] = IP_time\n",
    "    data['source_IPs'] = source_IP_ports\n",
    "    data['destination_IPs'] = destination_IPs\n",
    "    data['destination_IP_ports'] = destination_IP_ports\n",
    "    data['destination_TCP_ports'] = destination_TCP_ports\n",
    "    data['TCP_flags'] = TCP_flags\n",
    "    data['IP_flags'] = IP_flags\n",
    "    data['destination_UDP_ports'] = destination_UDP_ports\n",
    "\n",
    "    return data"
   ]
  },
  {
   "cell_type": "code",
   "execution_count": null,
   "metadata": {},
   "outputs": [],
   "source": [
    "data = extract_data(sessionVals[0:])\n",
    "print(errors)"
   ]
  },
  {
   "cell_type": "code",
   "execution_count": null,
   "metadata": {},
   "outputs": [],
   "source": [
    "import pandas as pd\n",
    "\n",
    "df = pd.DataFrame(data)\n",
    "df"
   ]
  },
  {
   "cell_type": "code",
   "execution_count": null,
   "metadata": {},
   "outputs": [],
   "source": [
    "df.sort_values(by=['IP_time'])"
   ]
  },
  {
   "cell_type": "code",
   "execution_count": null,
   "metadata": {},
   "outputs": [],
   "source": []
  },
  {
   "cell_type": "markdown",
   "metadata": {},
   "source": [
    "### Plot data"
   ]
  },
  {
   "cell_type": "code",
   "execution_count": null,
   "metadata": {},
   "outputs": [],
   "source": [
    "import matplotlib.pyplot as plt\n",
    "%matplotlib inline\n",
    "import seaborn as sns\n",
    "\n"
   ]
  },
  {
   "cell_type": "code",
   "execution_count": null,
   "metadata": {},
   "outputs": [],
   "source": [
    " # Print the location of Jupyter's config directory\n",
    " from jupyter_core.paths import jupyter_config_dir\n",
    " jupyter_dir = jupyter_config_dir()\n",
    " print(jupyter_dir)\n",
    "\n",
    " # Print the location of custom.js\n",
    " import os.path\n",
    " custom_js_path = os.path.join(jupyter_dir, 'custom', 'custom.js')\n",
    " print(custom_js_path)\n",
    "\n",
    " # Print the contents of custom.js, if it exists.\n",
    " if os.path.isfile(custom_js_path):\n",
    "     with open(custom_js_path) as f:\n",
    "         print(f.read())\n",
    " else:\n",
    "     print(\"You don't have a custom.js file\")"
   ]
  },
  {
   "cell_type": "code",
   "execution_count": null,
   "metadata": {},
   "outputs": [],
   "source": []
  }
 ],
 "metadata": {
  "kernelspec": {
   "display_name": "Python 3",
   "language": "python",
   "name": "python3"
  },
  "language_info": {
   "codemirror_mode": {
    "name": "ipython",
    "version": 3
   },
   "file_extension": ".py",
   "mimetype": "text/x-python",
   "name": "python",
   "nbconvert_exporter": "python",
   "pygments_lexer": "ipython3",
   "version": "3.7.0"
  }
 },
 "nbformat": 4,
 "nbformat_minor": 2
}
