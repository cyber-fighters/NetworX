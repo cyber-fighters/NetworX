{
 "cells": [
  {
   "cell_type": "markdown",
   "metadata": {},
   "source": [
    "# Network data exploration"
   ]
  },
  {
   "cell_type": "markdown",
   "metadata": {},
   "source": [
    "## Load data\n",
    "\n",
    "Gather paths from private json file"
   ]
  },
  {
   "cell_type": "code",
   "execution_count": null,
   "metadata": {},
   "outputs": [],
   "source": [
    "import json\n",
    "\n",
    "\n",
    "with open('paths.json') as f:\n",
    "    json_data = json.load(f)\n",
    "json_data"
   ]
  },
  {
   "cell_type": "code",
   "execution_count": null,
   "metadata": {},
   "outputs": [],
   "source": [
    "networkfile = json_data['data']['file']"
   ]
  },
  {
   "cell_type": "markdown",
   "metadata": {},
   "source": [
    "Read network data from file"
   ]
  },
  {
   "cell_type": "code",
   "execution_count": null,
   "metadata": {},
   "outputs": [],
   "source": [
    "import scapy.all\n",
    "\n",
    "\n",
    "a = scapy.all.rdpcap(networkfile)\n",
    "sessions = a.sessions()\n",
    "\n",
    "print('Loaded {} sessions'.format(len(sessions)))"
   ]
  },
  {
   "cell_type": "code",
   "execution_count": null,
   "metadata": {},
   "outputs": [],
   "source": [
    "sessionKeys = list(sessions.keys())\n",
    "print(sessionKeys[0:2])\n",
    "sessionVals = list(sessions.values())\n",
    "print(sessionVals[0:2])"
   ]
  },
  {
   "cell_type": "markdown",
   "metadata": {},
   "source": [
    "## Investigate pcap data\n",
    "\n",
    "### Investigate single packet list"
   ]
  },
  {
   "cell_type": "code",
   "execution_count": null,
   "metadata": {},
   "outputs": [],
   "source": [
    "sessionVals[0].show()"
   ]
  },
  {
   "cell_type": "code",
   "execution_count": null,
   "metadata": {},
   "outputs": [],
   "source": [
    "sessionVals[0].make_table(lambda x:(x[scapy.all.IP].dport, x[scapy.all.TCP].dport, x[scapy.all.TCP].payload_guess))"
   ]
  },
  {
   "cell_type": "code",
   "execution_count": null,
   "metadata": {},
   "outputs": [],
   "source": [
    "sessionVals[0][0][scapy.all.IP]"
   ]
  },
  {
   "cell_type": "code",
   "execution_count": null,
   "metadata": {},
   "outputs": [],
   "source": [
    "sessionVals[0][0][scapy.all.TCP]"
   ]
  },
  {
   "cell_type": "markdown",
   "metadata": {},
   "source": [
    "### Fill data in dataframe"
   ]
  },
  {
   "cell_type": "markdown",
   "metadata": {},
   "source": [
    "Define extractors for a single packet"
   ]
  },
  {
   "cell_type": "code",
   "execution_count": null,
   "metadata": {},
   "outputs": [],
   "source": [
    "import numpy as np\n",
    "\n",
    "\n",
    "errors = {}\n",
    "\n",
    "def catch_exception(func):\n",
    "    def func_wrapper(*args, **kargs):\n",
    "        try:\n",
    "            return func(*args, **kargs)    \n",
    "        except (IndexError, AttributeError) as e:\n",
    "            err = e.__class__.__name__ + ': ' + str(*e.args)\n",
    "            if err not in errors.keys():\n",
    "                errors[err] = 1\n",
    "            else:\n",
    "                errors[err] += 1\n",
    "            return [np.NaN] * len(args[0])\n",
    "    return func_wrapper"
   ]
  },
  {
   "cell_type": "code",
   "execution_count": null,
   "metadata": {},
   "outputs": [],
   "source": [
    "# define Ethernet functions\n",
    "@catch_exception\n",
    "def extract_source_MAC(session):\n",
    "    return list(map(lambda x: x[scapy.all.Ether].src, session))\n",
    "\n",
    "@catch_exception\n",
    "def extract_destination_MAC(session):\n",
    "    return list(map(lambda x: x[scapy.all.Ether].dst, session))\n",
    "\n",
    "# define IP functions\n",
    "\n",
    "@catch_exception\n",
    "def extract_IP_flags(session):\n",
    "    return list(map(lambda x: x[scapy.all.IP].sprintf(\"%flags%\"), session))\n",
    "\n",
    "@catch_exception\n",
    "def extract_IP_time(session):\n",
    "    return list(map(lambda x: x[scapy.all.IP].time, session))\n",
    "\n",
    "@catch_exception\n",
    "def extract_source_IPs(session):\n",
    "    return list(map(lambda x: x[scapy.all.IP].src, session))\n",
    "\n",
    "@catch_exception\n",
    "def extract_destination_IPs(session):\n",
    "    return list(map(lambda x: x[scapy.all.IP].dst, session))\n",
    "\n",
    "#@catch_exception\n",
    "#def extract_destination_IP_ports(session):\n",
    "#    return list(map(lambda x: x[scapy.all.IP].dport, session))\n",
    "\n",
    "#@catch_exception\n",
    "#def extract_source_IP_ports(session):\n",
    "#    return list(map(lambda x: x[scapy.all.IP].sport, session))\n",
    "\n",
    "\n",
    "# define UDP functions\n",
    "\n",
    "@catch_exception\n",
    "def extract_destination_UDP_ports(session):\n",
    "    return list(map(lambda x: x[scapy.all.UDP].dport, session))\n",
    "\n",
    "@catch_exception\n",
    "def extract_source_UDP_ports(session):\n",
    "    return list(map(lambda x: x[scapy.all.UDP].sport, session))\n",
    "\n",
    "@catch_exception\n",
    "def extract_UDP_flags(session):\n",
    "    return list(map(lambda x: x[scapy.all.UDP].sprintf(\"%flags%\"), session))\n",
    "\n",
    "\n",
    "# define TCP functions\n",
    "\n",
    "@catch_exception\n",
    "def extract_TCP_flags(session):\n",
    "    return list(map(lambda x: x[scapy.all.TCP].sprintf(\"%flags%\"), session))\n",
    "\n",
    "@catch_exception\n",
    "def extract_destination_TCP_ports(session):\n",
    "    return list(map(lambda x: x[scapy.all.TCP].dport, session))\n",
    "\n",
    "@catch_exception\n",
    "def extract_source_TCP_ports(session):\n",
    "    return list(map(lambda x: x[scapy.all.TCP].sport, session))\n",
    "\n",
    "@catch_exception\n",
    "def extract_TCP_seq(session):\n",
    "    return list(map(lambda x: x[scapy.all.TCP].seq, session))\n",
    "\n",
    "@catch_exception\n",
    "def extract_TCP_ack(session):\n",
    "    return list(map(lambda x: x[scapy.all.TCP].ack, session))\n",
    "\n",
    "# bookkeeping\n",
    "\n",
    "def extract_session_ID(sessions):\n",
    "    session_IDs = []\n",
    "    for index, session in enumerate(sessions):\n",
    "        session_IDs.extend([index] * len(session))\n",
    "    return session_IDs\n",
    "\n",
    "def extract_packet_IDs(session):\n",
    "    return list(range(0, len(session)))"
   ]
  },
  {
   "cell_type": "markdown",
   "metadata": {},
   "source": [
    "Perform extraction for all packets"
   ]
  },
  {
   "cell_type": "code",
   "execution_count": null,
   "metadata": {},
   "outputs": [],
   "source": [
    "import itertools\n",
    "\n",
    "\n",
    "def flatten_map(func, iterable):\n",
    "    return list(itertools.chain(*list(map(func, iterable))))\n",
    "\n",
    "def extract_data(sessions):\n",
    "    print('This session list has ' + str(len(sessions)) + ' sessions')\n",
    "    source_IPs = flatten_map(extract_source_IPs, sessions)\n",
    "    destination_IPs = flatten_map(extract_destination_IPs, sessions)\n",
    "    source_TCP_ports = flatten_map(extract_source_TCP_ports, sessions)\n",
    "    destination_TCP_ports = flatten_map(extract_destination_TCP_ports, sessions)\n",
    "    TCP_flags = flatten_map(extract_TCP_flags, sessions)\n",
    "    IP_flags = flatten_map(extract_IP_flags, sessions)\n",
    "    source_UDP_ports = flatten_map(extract_source_UDP_ports, sessions)\n",
    "    destination_UDP_ports = flatten_map(extract_destination_UDP_ports, sessions)\n",
    "    IP_time = flatten_map(extract_IP_time, sessions)\n",
    "    #source_IP_ports = flatten_map(extract_source_IP_ports, sessions)\n",
    "    packet_IDs = flatten_map(extract_packet_IDs, sessions)\n",
    "    session_IDs = extract_session_ID(sessions)\n",
    "    UDP_flags = flatten_map(extract_UDP_flags, sessions)\n",
    "    source_MACs = flatten_map(extract_source_MAC, sessions)\n",
    "    destination_MACs = flatten_map(extract_destination_MAC, sessions)\n",
    "    TCP_seqs = flatten_map(extract_TCP_seq, sessions)\n",
    "    TCP_acks = flatten_map(extract_TCP_ack, sessions)\n",
    "\n",
    "    data = {}\n",
    "    data['session_ID'] = session_IDs\n",
    "    data['packet_ID'] = packet_IDs\n",
    "    data['IP_time'] = IP_time\n",
    "    data['source_IP'] = source_IPs\n",
    "    #data['source_IP_ports'] = source_IP_ports\n",
    "    data['destination_IP'] = destination_IPs\n",
    "    #data['destination_IP_port'] = destination_IP_ports\n",
    "    data['source_TCP_port'] = source_TCP_ports\n",
    "    data['destination_TCP_port'] = destination_TCP_ports\n",
    "    data['IP_flags'] = IP_flags\n",
    "    data['TCP_flags'] = TCP_flags\n",
    "    data['UDP_flags'] = UDP_flags\n",
    "    data['source_UDP_port'] = source_UDP_ports\n",
    "    data['destination_UDP_port'] = destination_UDP_ports\n",
    "    data['source_MAC'] = source_MACs\n",
    "    data['destination_MAC'] = destination_MACs\n",
    "    data['TCP_seq'] = TCP_seqs\n",
    "    data['TCP_ack'] = TCP_acks\n",
    "\n",
    "    return data"
   ]
  },
  {
   "cell_type": "code",
   "execution_count": null,
   "metadata": {},
   "outputs": [],
   "source": [
    "data = extract_data(sessionVals[0:])\n",
    "print(errors)"
   ]
  },
  {
   "cell_type": "code",
   "execution_count": null,
   "metadata": {},
   "outputs": [],
   "source": [
    "import pandas as pd\n",
    "\n",
    "df = pd.DataFrame(data)\n",
    "df['IP_flags'].unique()"
   ]
  },
  {
   "cell_type": "code",
   "execution_count": null,
   "metadata": {},
   "outputs": [],
   "source": [
    "df.loc[[159220, 159221]]"
   ]
  },
  {
   "cell_type": "code",
   "execution_count": null,
   "metadata": {},
   "outputs": [],
   "source": [
    "df.loc[0:100]"
   ]
  },
  {
   "cell_type": "code",
   "execution_count": null,
   "metadata": {},
   "outputs": [],
   "source": [
    "df.info()"
   ]
  },
  {
   "cell_type": "code",
   "execution_count": null,
   "metadata": {},
   "outputs": [],
   "source": [
    "df.sort_values(by=['IP_time'])"
   ]
  },
  {
   "cell_type": "markdown",
   "metadata": {},
   "source": [
    "### Plot data"
   ]
  },
  {
   "cell_type": "code",
   "execution_count": null,
   "metadata": {
    "scrolled": false
   },
   "outputs": [],
   "source": [
    "%matplotlib inline\n",
    "import matplotlib.pyplot as plt\n",
    "import seaborn as sns\n",
    "\n",
    "plt.subplots(figsize=(20,15))\n",
    "g=sns.countplot(x=\"TCP_flags\", data=df)\n",
    "#g.set_xticklabels(g.get_xticklabels(), rotation=0)\n",
    "print('Plot it...')\n"
   ]
  },
  {
   "cell_type": "code",
   "execution_count": null,
   "metadata": {},
   "outputs": [],
   "source": [
    "def cat_corr(df, x, y):\n",
    "    modules = df[x].unique()\n",
    "    types = df[y].unique()\n",
    "    cat = [[0 for i in range(len(types))] for j in range(len(modules))]\n",
    "    # prepare cross-correlation\n",
    "    count_series = df.groupby([x, y]).size()\n",
    "    # fill list of lists\n",
    "    for imod, mod in enumerate(modules):\n",
    "        for ityp, typ in enumerate(types):\n",
    "            try:\n",
    "                cat[imod][ityp] = count_series[mod][typ]\n",
    "            except KeyError:\n",
    "                pass\n",
    "    return cat"
   ]
  },
  {
   "cell_type": "code",
   "execution_count": null,
   "metadata": {},
   "outputs": [],
   "source": [
    "df_dropna = df[['source_IP', 'TCP_flags']].dropna()\n",
    "plt.subplots(figsize=(20,15))\n",
    "sns.heatmap(cat_corr(df_dropna, 'source_IP', 'TCP_flags'), yticklabels=df_dropna['source_IP'].unique(), xticklabels=df_dropna['TCP_flags'].unique())"
   ]
  },
  {
   "cell_type": "code",
   "execution_count": null,
   "metadata": {},
   "outputs": [],
   "source": [
    "df_dropna = df[['source_IP', 'source_MAC']].dropna()\n",
    "#df_dropna = df.loc[df['source_MAC'] == \"9c:c7:a6:6c:5b:b5\"]\n",
    "#print(df_dropna['source_IP'].unique())\n",
    "sns.relplot(x=\"source_IP\", y=\"source_MAC\", data=df_dropna)\n",
    "plt.xticks(rotation=90)\n",
    "g = plt.gcf()\n",
    "g.set_size_inches(20, 15)"
   ]
  },
  {
   "cell_type": "code",
   "execution_count": null,
   "metadata": {},
   "outputs": [],
   "source": [
    "df_dropna = df[['destination_IP', 'destination_MAC']].dropna()\n",
    "sns.relplot(x=\"destination_IP\", y=\"destination_MAC\", data=df_dropna)\n",
    "plt.xticks(rotation=90)\n",
    "g = plt.gcf()\n",
    "g.set_size_inches(20, 15)"
   ]
  }
 ],
 "metadata": {
  "kernelspec": {
   "display_name": "Python 3",
   "language": "python",
   "name": "python3"
  },
  "language_info": {
   "codemirror_mode": {
    "name": "ipython",
    "version": 3
   },
   "file_extension": ".py",
   "mimetype": "text/x-python",
   "name": "python",
   "nbconvert_exporter": "python",
   "pygments_lexer": "ipython3",
   "version": "3.7.0"
  }
 },
 "nbformat": 4,
 "nbformat_minor": 2
}
